{
  "nbformat": 4,
  "nbformat_minor": 0,
  "metadata": {
    "colab": {
      "provenance": []
    },
    "kernelspec": {
      "name": "python3",
      "display_name": "Python 3"
    },
    "language_info": {
      "name": "python"
    }
  },
  "cells": [
    {
      "cell_type": "code",
      "execution_count": null,
      "metadata": {
        "id": "OI_JC4nCwHmh"
      },
      "outputs": [],
      "source": []
    },
    {
      "cell_type": "markdown",
      "source": [
        "Q1) What is the difference between interpreted and compiled languages?\n",
        "Ans: In interpreter The code is executed line by line by an interpreter at runtime. There is no separate compilation step. The interpreter directly executes the code. Where as in the Compiled, The code is first compiled into machine code, which is then executed by the computer's processor.\n",
        "\n",
        "Q2)  What is exception handling in Python?\n",
        "Ans: Exception handling is a mechanism in Python that allows you to manage and respond to errors or unexpected events that occur during the execution of your code. This helps prevent your program from crashing and provides a way to recover from errors.\n",
        "\n",
        "Q3) What is the purpose of the finally block in exception handling?\n",
        "Ans: The finally block in exception handling is used to execute a set of statements regardless of whether an exception occurred or not. Its primary purpose is to Release Resources, Clean Up and Maintain Consistency.\n",
        "\n",
        "Q4) What is logging in Python?\n",
        "Ans: Logging is a built-in Python module that allows you to track events happening during the execution of your program. It provides a flexible framework for emitting log messages from Python programs.\n",
        "\n",
        "Q5) What is the significance of the __del__ method in Python?\n",
        "Ans: The __del__ method, also known as the finalizer or destructor, is a special method in Python classes that is called when an object is about to be destroyed.\n",
        "\n",
        "Q6) What is the difference between import and from ... import in Python?\n",
        "Ans: When you use the import syntax, you import the entire module, including all its functions, classes, and variables. While using With the from ... import syntax, you can import specific functions, classes, or variables from a module.\n",
        "\n",
        "Q7) How can you handle multiple exceptions in Python?\n",
        "Ans: In Python, you can handle multiple exceptions using the except block in a try-except statement.\n",
        "\n",
        "Q8) What is the purpose of the with statement when handling files in Python?\n",
        "Ans: The with statement is a context manager that simplifies file handling in Python. It insures Ensure File Closure, Manage File Locks and Improve Code Readability.\n",
        "\n",
        "Q9) What is the difference between multithreading and multiprocessing?\n",
        "Ans: In computer science, multithreading and multiprocessing are two techniques used to achieve concurrency, which is the ability of a program to execute multiple tasks simultaneously.\n",
        "\n",
        "Q10) What are the advantages of using logging in a program?\n",
        "Ans: Logging have several advantage some of following Debugging, Auditing, Error Tracking, Performance Analysis and many more.\n",
        "\n",
        "Q11) What is memory management in Python?\n",
        "Ans: Memory management in Python refers to the process of managing the memory allocated to Python objects, such as variables, data structures, and functions.\n",
        "\n",
        "Q12) What are the basic steps involved in exception handling in Python?\n",
        "Ans: Exception handling is a crucial aspect of programming in Python, allowing you to manage and respond to errors or unexpected events that occur during the execution of your code. Ex"
      ],
      "metadata": {
        "id": "6b7UJVprwNS4"
      }
    },
    {
      "cell_type": "code",
      "source": [
        "def divide_numbers(a, b):\n",
        "    try:\n",
        "        result = a / b\n",
        "    except ZeroDivisionError:\n",
        "        print(\"Error: Cannot divide by zero!\")\n",
        "    else:\n",
        "        print(\"Result:\", result)\n",
        "    finally:\n",
        "        print(\"Division operation complete.\")\n",
        "divide_numbers(10, 2)\n",
        "divide_numbers(10, 0)"
      ],
      "metadata": {
        "colab": {
          "base_uri": "https://localhost:8080/"
        },
        "id": "wyDXoqtv1bz9",
        "outputId": "18c78978-6005-457b-d0c9-b766f517617f"
      },
      "execution_count": 1,
      "outputs": [
        {
          "output_type": "stream",
          "name": "stdout",
          "text": [
            "Result: 5.0\n",
            "Division operation complete.\n",
            "Error: Cannot divide by zero!\n",
            "Division operation complete.\n"
          ]
        }
      ]
    },
    {
      "cell_type": "markdown",
      "source": [
        "Q13) Why is memory management important in Python?\n",
        "Ans: Memory management is crucial in Python to ensure the efficient use of system resources, prevent memory-related issues, and maintain the overall performance and reliability of your programings.\n",
        "\n",
        "Q14) What is the role of try and except in exception handling?\n",
        "Ans: In Exception Handling The try block contains the code that might potentially raise an exception And The except block catches exceptions raised by the code in the try block.\n",
        "\n",
        "Q15) How does Python's garbage collection system work?\n",
        "Ans: Python's garbage collection system is a mechanism that automatically manages memory and eliminates memory leaks by reclaiming memory occupied by objects that are no longer needed.\n",
        "\n",
        "Q16) What is the purpose of the else block in exception handling?\n",
        "Ans: In the Exception handling else block contains code that will be executed when the try block completes normally, without raising any exceptions.\n",
        "\n",
        "Q17) What are the common logging levels in Python?\n",
        "Ans: These are the common levels, DEBUG, INFO, WARNING, ERROR and CRITICAL.\n",
        "\n",
        "Q18) What is the difference between os.fork() and multiprocessing in Python?\n",
        "Ans: In os.fork() it is a system call that creates a new process by duplicating an existing one and In The multiprocessing module is a cross-platform way to achieve parallelism, working on both Unix-based and Windows systems.\n",
        "\n",
        "Q19)  What is the importance of closing a file in Python?\n",
        "Ans: In Python, closing a file is crucial to ensure that system resources are released and data is properly saved.\n",
        "\n",
        "Q20)  What is the difference between file.read() and file.readline() in Python?\n",
        "Ans: In file.read() reads the entire contents of the file and returns it as a string and In file.readline() reads a single line from the file and returns it as a string.\n",
        "\n",
        "Q21) What is the logging module in Python used for?\n",
        "Ans: The logging module in Python is a built-in module used for logging events in a program. Logging is the process of recording events that occur during the execution of a program, allowing developers to track, debug, and monitor the program's behavior.\n",
        "\n",
        "Q22) What is the os module in Python used for in file handling?\n",
        "Ans: The os module in Python provides a way to interact with the operating system and perform various file-related tasks.\n",
        "\n",
        "Q23) What are the challenges associated with memory management in Python?\n",
        "Ans: There are some of challenges following, Memory Leaks, Performance Overhead, Limited Control, Multi-Threading and Multiprocessing and more\n",
        "\n",
        "Q24) How do you raise an exception manually in Python?\n",
        "Ans: In Python, you can raise an exception manually using the raise keyword.\n",
        "\n",
        "Q25) Why is it important to use multithreading in certain applications?\n",
        "Ans: Multithreading enables modular code structure by allowing each thread to perform a specific task, making the code easier to maintain and modify.\n"
      ],
      "metadata": {
        "id": "iCwdtNH91nAW"
      }
    },
    {
      "cell_type": "code",
      "source": [
        "# Q1) How can you open a file for writing in Python and write a string to it?\n",
        "file = open(\"example.txt\", \"w\")\n",
        "file.write(\"Hello, World!\")\n",
        "file.close()"
      ],
      "metadata": {
        "id": "9yN-K2lK8AbU"
      },
      "execution_count": 2,
      "outputs": []
    },
    {
      "cell_type": "code",
      "source": [
        "#Q2) Write a Python program to read the contents of a file and print each line?\n",
        "\n",
        "def read_and_print_file_contents(file_path):\n",
        "\n",
        "    try:\n",
        "        with open(file_path, 'r') as file:\n",
        "            for line_number, line in enumerate(file, start=1):\n",
        "                print(f\"Line {line_number}: {line.strip()}\")\n",
        "    except FileNotFoundError:\n",
        "        print(f\"File '{file_path}' not found.\")\n",
        "    except Exception as e:\n",
        "        print(f\"An error occurred: {e}\")\n",
        "\n",
        "file_path = \"example.txt\"\n",
        "read_and_print_file_contents(file_path)"
      ],
      "metadata": {
        "colab": {
          "base_uri": "https://localhost:8080/"
        },
        "id": "RK0G10FD8Wuw",
        "outputId": "7e8425dd-97b0-4430-d28a-d10ad276fd62"
      },
      "execution_count": 4,
      "outputs": [
        {
          "output_type": "stream",
          "name": "stdout",
          "text": [
            "Line 1: Hello, World!\n"
          ]
        }
      ]
    },
    {
      "cell_type": "code",
      "source": [
        "#Q3) How would you handle a case where the file doesn't exist while trying to open it for reading?\n",
        "\n",
        "try:\n",
        "    with open(\"non_existent_file.txt\", \"r\") as file:\n",
        "        # Read the file\n",
        "        contents = file.read()\n",
        "except FileNotFoundError:\n",
        "    print(\"The file does not exist.\")"
      ],
      "metadata": {
        "colab": {
          "base_uri": "https://localhost:8080/"
        },
        "id": "a9DTDGSr8xx5",
        "outputId": "94b3c95c-4370-4338-9871-38b795a68061"
      },
      "execution_count": 5,
      "outputs": [
        {
          "output_type": "stream",
          "name": "stdout",
          "text": [
            "The file does not exist.\n"
          ]
        }
      ]
    },
    {
      "cell_type": "code",
      "source": [
        "#Q4) Write a Python script that reads from one file and writes its content to another file?\n",
        "\n",
        "def copy_file(source_file_path, destination_file_path):\n",
        "    try:\n",
        "        with open(source_file_path, 'r') as source_file:\n",
        "            source_contents = source_file.read()\n",
        "\n",
        "        with open(destination_file_path, 'w') as destination_file:\n",
        "            destination_file.write(source_contents)\n",
        "\n",
        "        print(f\"File copied successfully from '{source_file_path}' to '{destination_file_path}'\")\n",
        "    except FileNotFoundError:\n",
        "        print(f\"Source file '{source_file_path}' not found.\")\n",
        "    except Exception as e:\n",
        "        print(f\"An error occurred: {e}\")\n",
        "\n",
        "source_file_path = \"source.txt\"\n",
        "destination_file_path = \"destination.txt\"\n",
        "copy_file(source_file_path, destination_file_path)"
      ],
      "metadata": {
        "colab": {
          "base_uri": "https://localhost:8080/"
        },
        "id": "_JAG6Rng9BY8",
        "outputId": "d33bde65-6cf6-40e1-96cc-da6377660f43"
      },
      "execution_count": 6,
      "outputs": [
        {
          "output_type": "stream",
          "name": "stdout",
          "text": [
            "Source file 'source.txt' not found.\n"
          ]
        }
      ]
    },
    {
      "cell_type": "code",
      "source": [
        "#Q5) How would you catch and handle division by zero error in Python?\n",
        "\n",
        "def divide_numbers(a, b):\n",
        "    try:\n",
        "        result = a / b\n",
        "        return result\n",
        "    except ZeroDivisionError:\n",
        "        print(\"Error: Division by zero is not allowed.\")\n",
        "        return None\n",
        "result = divide_numbers(10, 0)\n",
        "print(result)"
      ],
      "metadata": {
        "colab": {
          "base_uri": "https://localhost:8080/"
        },
        "id": "-mrFT4tS9buk",
        "outputId": "d1195c45-cd02-4aff-a110-01e85b484e0d"
      },
      "execution_count": 7,
      "outputs": [
        {
          "output_type": "stream",
          "name": "stdout",
          "text": [
            "Error: Division by zero is not allowed.\n",
            "None\n"
          ]
        }
      ]
    },
    {
      "cell_type": "code",
      "source": [
        "#Q6) Write a Python program that logs an error message to a log file when a division by zero exception occurs?\n",
        "\n",
        "import logging\n",
        "\n",
        "logging.basicConfig(\n",
        "    filename='division_errors.log',\n",
        "    level=logging.ERROR,\n",
        "    format='%(asctime)s - %(levelname)s - %(message)s',\n",
        "    datefmt='%Y-%m-%d %H:%M:%S'\n",
        ")\n",
        "\n",
        "def divide_numbers(a, b):\n",
        "    try:\n",
        "        result = a / b\n",
        "        return result\n",
        "    except ZeroDivisionError:\n",
        "        logging.error(\"Division by zero error occurred.\", exc_info=True)\n",
        "        return None\n",
        "\n",
        "result = divide_numbers(10, 0)\n",
        "print(result)"
      ],
      "metadata": {
        "colab": {
          "base_uri": "https://localhost:8080/"
        },
        "id": "SPTV4UT69v1l",
        "outputId": "5c4e757d-ac39-4d10-e921-c95ab6de83fc"
      },
      "execution_count": 11,
      "outputs": [
        {
          "output_type": "stream",
          "name": "stderr",
          "text": [
            "ERROR:root:Division by zero error occurred.\n",
            "Traceback (most recent call last):\n",
            "  File \"<ipython-input-11-36010df46f16>\", line 15, in divide_numbers\n",
            "    result = a / b\n",
            "             ~~^~~\n",
            "ZeroDivisionError: division by zero\n"
          ]
        },
        {
          "output_type": "stream",
          "name": "stdout",
          "text": [
            "None\n"
          ]
        }
      ]
    },
    {
      "cell_type": "code",
      "source": [
        "#Q7) How do you log information at different levels (INFO, ERROR, WARNING) in Python using the logging module?\n",
        "\n",
        "import logging\n",
        "\n",
        "logging.basicConfig(level=logging.INFO)\n",
        "\n",
        "logging.debug(\"This is a debug message.\")\n",
        "logging.info(\"This is an info message.\")\n",
        "logging.warning(\"This is a warning message.\")\n",
        "logging.error(\"This is an error message.\")\n",
        "logging.critical(\"This is a critical message.\")\n"
      ],
      "metadata": {
        "colab": {
          "base_uri": "https://localhost:8080/"
        },
        "id": "yt6FXe51-xbE",
        "outputId": "de9b5cda-7b74-4f02-9738-648f9fb7dc4b"
      },
      "execution_count": 12,
      "outputs": [
        {
          "output_type": "stream",
          "name": "stderr",
          "text": [
            "WARNING:root:This is a warning message.\n",
            "ERROR:root:This is an error message.\n",
            "CRITICAL:root:This is a critical message.\n"
          ]
        }
      ]
    },
    {
      "cell_type": "code",
      "source": [
        "#Q8)  Write a program to handle a file opening error using exception handling?\n",
        "\n",
        "def read_file(file_path):\n",
        "    try:\n",
        "        with open(file_path, 'r') as file:\n",
        "            contents = file.read()\n",
        "            print(contents)\n",
        "    except FileNotFoundError:\n",
        "        print(f\"Error: File '{file_path}' not found.\")\n",
        "    except PermissionError:\n",
        "        print(f\"Error: Permission denied to access file '{file_path}'.\")\n",
        "    except Exception as e:\n",
        "        print(f\"An error occurred: {e}\")\n",
        "\n",
        "file_path = \"example.txt\"\n",
        "read_file(file_path)"
      ],
      "metadata": {
        "colab": {
          "base_uri": "https://localhost:8080/"
        },
        "id": "5nixOT_8_HhL",
        "outputId": "17dd259e-51dd-4a11-e270-aa57e2afb03b"
      },
      "execution_count": 13,
      "outputs": [
        {
          "output_type": "stream",
          "name": "stdout",
          "text": [
            "Hello, World!\n"
          ]
        }
      ]
    },
    {
      "cell_type": "code",
      "source": [
        "#Q9) How can you read a file line by line and store its content in a list in Python?\n",
        "\n",
        "def read_file_lines(file_path):\n",
        "    try:\n",
        "\n",
        "        with open(file_path, 'r') as file:\n",
        "\n",
        "            lines = [line.strip() for line in file]\n",
        "            return lines\n",
        "    except FileNotFoundError:\n",
        "        print(f\"File '{file_path}' not found.\")\n",
        "        return []\n",
        "    except Exception as e:\n",
        "        print(f\"An error occurred: {e}\")\n",
        "        return []\n",
        "\n",
        "file_path = \"example.txt\"\n",
        "lines = read_file_lines(file_path)\n",
        "print(lines)"
      ],
      "metadata": {
        "colab": {
          "base_uri": "https://localhost:8080/"
        },
        "id": "MgQ8sQAI_cBQ",
        "outputId": "57522146-46db-4f83-e157-18c4ad83e015"
      },
      "execution_count": 14,
      "outputs": [
        {
          "output_type": "stream",
          "name": "stdout",
          "text": [
            "['Hello, World!']\n"
          ]
        }
      ]
    },
    {
      "cell_type": "code",
      "source": [
        "#Q10) How can you append data to an existing file in Python?\n",
        "\n",
        "def append_to_file(file_path, data):\n",
        "    try:\n",
        "        with open(file_path, 'a') as file:\n",
        "\n",
        "            file.write(data + '\\n')\n",
        "        print(f\"Data appended successfully to '{file_path}'\")\n",
        "    except FileNotFoundError:\n",
        "        print(f\"File '{file_path}' not found.\")\n",
        "    except Exception as e:\n",
        "        print(f\"An error occurred: {e}\")\n",
        "\n",
        "file_path = \"example.txt\"\n",
        "data = \"This is new data to append.\"\n",
        "append_to_file(file_path, data)"
      ],
      "metadata": {
        "colab": {
          "base_uri": "https://localhost:8080/"
        },
        "id": "O-n0zu-5_vuo",
        "outputId": "1c4aa501-3c94-4366-9133-6ba3e8ff01ad"
      },
      "execution_count": 15,
      "outputs": [
        {
          "output_type": "stream",
          "name": "stdout",
          "text": [
            "Data appended successfully to 'example.txt'\n"
          ]
        }
      ]
    },
    {
      "cell_type": "code",
      "source": [
        "#Q11) Write a Python program that uses a try-except block to handle an error when attempting to access a dictionary key that doesn't exist?\n",
        "\n",
        "def access_dictionary_key(dictionary, key):\n",
        "    try:\n",
        "        value = dictionary[key]\n",
        "        print(f\"The value for key '{key}' is: {value}\")\n",
        "    except KeyError:\n",
        "        print(f\"Error: Key '{key}' not found in the dictionary.\")\n",
        "\n",
        "dictionary = {\"name\": \"Kartik\", \"age\": 27}\n",
        "key = \" occupation\"\n",
        "\n",
        "access_dictionary_key(dictionary, key)"
      ],
      "metadata": {
        "colab": {
          "base_uri": "https://localhost:8080/"
        },
        "id": "53RMxqMhAMdi",
        "outputId": "4bacf31e-e4b2-41a1-9493-ce0c6f24d533"
      },
      "execution_count": 16,
      "outputs": [
        {
          "output_type": "stream",
          "name": "stdout",
          "text": [
            "Error: Key ' occupation' not found in the dictionary.\n"
          ]
        }
      ]
    },
    {
      "cell_type": "code",
      "source": [
        "#Q12) Write a program that demonstrates using multiple except blocks to handle different types of exceptions?\n",
        "\n",
        "def divide_numbers(a, b):\n",
        "    try:\n",
        "        result = a / b\n",
        "        print(f\"The result is: {result}\")\n",
        "    except ZeroDivisionError:\n",
        "        print(\"Error: Division by zero is not allowed.\")\n",
        "    except TypeError:\n",
        "        print(\"Error: Invalid input type. Please enter numbers only.\")\n",
        "    except Exception as e:\n",
        "        print(f\"An unexpected error occurred: {e}\")\n",
        "\n",
        "divide_numbers(10, 0)\n",
        "divide_numbers(10, \"a\")\n",
        "divide_numbers(10, 2)"
      ],
      "metadata": {
        "colab": {
          "base_uri": "https://localhost:8080/"
        },
        "id": "Q0myHsUQAsSO",
        "outputId": "65825b7e-a7c7-4adb-d045-2bb4dd9f17b3"
      },
      "execution_count": 17,
      "outputs": [
        {
          "output_type": "stream",
          "name": "stdout",
          "text": [
            "Error: Division by zero is not allowed.\n",
            "Error: Invalid input type. Please enter numbers only.\n",
            "The result is: 5.0\n"
          ]
        }
      ]
    },
    {
      "cell_type": "code",
      "source": [
        "#Q13)  How would you check if a file exists before attempting to read it in Python?\n",
        "\n",
        "import os\n",
        "\n",
        "def check_file_exists(file_path):\n",
        "    if os.path.exists(file_path):\n",
        "        print(f\"File '{file_path}' exists.\")\n",
        "        return True\n",
        "    else:\n",
        "        print(f\"File '{file_path}' does not exist.\")\n",
        "        return False\n",
        "\n",
        "file_path = \"example.txt\"\n",
        "check_file_exists(file_path)\n"
      ],
      "metadata": {
        "colab": {
          "base_uri": "https://localhost:8080/"
        },
        "id": "Q67d3jO4BEOx",
        "outputId": "d804e66a-d14b-4d17-a213-42e91ea73598"
      },
      "execution_count": 18,
      "outputs": [
        {
          "output_type": "stream",
          "name": "stdout",
          "text": [
            "File 'example.txt' exists.\n"
          ]
        },
        {
          "output_type": "execute_result",
          "data": {
            "text/plain": [
              "True"
            ]
          },
          "metadata": {},
          "execution_count": 18
        }
      ]
    },
    {
      "cell_type": "code",
      "source": [
        "#Q14) Write a program that uses the logging module to log both informational and error messages?\n",
        "\n",
        "import logging\n",
        "\n",
        "logging.basicConfig(level=logging.INFO)\n",
        "\n",
        "def divide_numbers(a, b):\n",
        "    try:\n",
        "        result = a / b\n",
        "        logging.info(f\"Division successful: {a} / {b} = {result}\")\n",
        "    except ZeroDivisionError:\n",
        "        logging.error(\"Error: Division by zero is not allowed.\")\n",
        "\n",
        "divide_numbers(10, 2)\n",
        "divide_numbers(10, 0)"
      ],
      "metadata": {
        "colab": {
          "base_uri": "https://localhost:8080/"
        },
        "id": "c-avDLZfBT_2",
        "outputId": "f798730f-f53d-4fe4-b0b6-e2fe402ac8e3"
      },
      "execution_count": 19,
      "outputs": [
        {
          "output_type": "stream",
          "name": "stderr",
          "text": [
            "ERROR:root:Error: Division by zero is not allowed.\n"
          ]
        }
      ]
    },
    {
      "cell_type": "code",
      "source": [
        "#Q15) Write a Python program that prints the content of a file and handles the case when the file is empty?\n",
        "\n",
        "def print_file_content(file_path):\n",
        "    try:\n",
        "        with open(file_path, 'r') as file:\n",
        "            content = file.read()\n",
        "            if not content.strip():\n",
        "                print(f\"File '{file_path}' is empty.\")\n",
        "            else:\n",
        "                print(f\"Content of '{file_path}':\\n{content}\")\n",
        "    except FileNotFoundError:\n",
        "        print(f\"File '{file_path}' not found.\")\n",
        "    except Exception as e:\n",
        "        print(f\"An error occurred: {e}\")\n",
        "\n",
        "file_path = \"example.txt\"\n",
        "print_file_content(file_path)"
      ],
      "metadata": {
        "colab": {
          "base_uri": "https://localhost:8080/"
        },
        "id": "MbCx_eQMBsRk",
        "outputId": "bdd03686-624e-4890-a316-642523e6ed84"
      },
      "execution_count": 20,
      "outputs": [
        {
          "output_type": "stream",
          "name": "stdout",
          "text": [
            "Content of 'example.txt':\n",
            "Hello, World!This is new data to append.\n",
            "\n"
          ]
        }
      ]
    },
    {
      "cell_type": "code",
      "source": [
        "#Q16) Demonstrate how to use memory profiling to check the memory usage of a small program?\n",
        "\n"
      ],
      "metadata": {
        "id": "IyKSFEluCAQ0"
      },
      "execution_count": null,
      "outputs": []
    },
    {
      "cell_type": "code",
      "source": [
        "#Q17) Write a Python program to create and write a list of numbers to a file, one number per line?\n",
        "\n",
        "def write_numbers_to_file(file_path, numbers):\n",
        "    try:\n",
        "        with open(file_path, 'w') as file:\n",
        "            for number in numbers:\n",
        "                file.write(str(number) + '\\n')\n",
        "        print(f\"Numbers written successfully to '{file_path}'\")\n",
        "    except Exception as e:\n",
        "        print(f\"An error occurred: {e}\")\n",
        "\n",
        "file_path = \"numbers.txt\"\n",
        "numbers = [1, 2, 3, 4, 5]\n",
        "write_numbers_to_file(file_path, numbers)"
      ],
      "metadata": {
        "colab": {
          "base_uri": "https://localhost:8080/"
        },
        "id": "Zg8B3-yHCNtN",
        "outputId": "0de5d6f7-93cc-442b-9953-86dd46430a21"
      },
      "execution_count": 21,
      "outputs": [
        {
          "output_type": "stream",
          "name": "stdout",
          "text": [
            "Numbers written successfully to 'numbers.txt'\n"
          ]
        }
      ]
    },
    {
      "cell_type": "code",
      "source": [
        "#Q18) How would you implement a basic logging setup that logs to a file with rotation after 1MB?\n",
        "\n",
        "import logging\n",
        "from logging.handlers import RotatingFileHandler\n",
        "\n",
        "logger = logging.getLogger(__name__)\n",
        "logger.setLevel(logging.INFO)\n",
        "\n",
        "file_handler = RotatingFileHandler('log_file.log', maxBytes=1024*1024, backupCount=5)\n",
        "file_handler.setLevel(logging.INFO)\n",
        "\n",
        "formatter = logging.Formatter('%(asctime)s - %(name)s - %(levelname)s - %(message)s')\n",
        "file_handler.setFormatter(formatter)\n",
        "logger.addHandler(file_handler)\n",
        "logger.info('This is an info message.')\n",
        "logger.warning('This is a warning message.')\n",
        "logger.error('This is an error message.')"
      ],
      "metadata": {
        "colab": {
          "base_uri": "https://localhost:8080/"
        },
        "id": "-iCStSzSCjez",
        "outputId": "ef7518e4-a655-4851-90c6-e699fe5017b2"
      },
      "execution_count": 22,
      "outputs": [
        {
          "output_type": "stream",
          "name": "stderr",
          "text": [
            "INFO:__main__:This is an info message.\n",
            "WARNING:__main__:This is a warning message.\n",
            "ERROR:__main__:This is an error message.\n"
          ]
        }
      ]
    },
    {
      "cell_type": "code",
      "source": [
        "#Q19)  Write a program that handles both IndexError and KeyError using a try-except block?\n",
        "\n",
        "def access_data(data, index, key):\n",
        "    try:\n",
        "        value = data[index][key]\n",
        "        print(f\"Value at index {index} and key '{key}': {value}\")\n",
        "    except IndexError:\n",
        "        print(f\"Error: Index {index} out of range.\")\n",
        "    except KeyError:\n",
        "        print(f\"Error: Key '{key}' not found.\")\n",
        "    except Exception as e:\n",
        "        print(f\"An unexpected error occurred: {e}\")\n",
        "data = [\n",
        "    {\"name\": \"Kartik\", \"age\": 27},\n",
        "    {\"name\": \"Rahul\", \"age\": 32}\n",
        "]\n",
        "\n",
        "access_data(data, 0, \"name\")\n",
        "access_data(data, 2, \"name\")\n",
        "access_data(data, 0, \" occupation\")"
      ],
      "metadata": {
        "colab": {
          "base_uri": "https://localhost:8080/"
        },
        "id": "7rMue4lKC0yy",
        "outputId": "8bf85d68-97c0-4ebe-9136-41ade7a40862"
      },
      "execution_count": 23,
      "outputs": [
        {
          "output_type": "stream",
          "name": "stdout",
          "text": [
            "Value at index 0 and key 'name': Kartik\n",
            "Error: Index 2 out of range.\n",
            "Error: Key ' occupation' not found.\n"
          ]
        }
      ]
    },
    {
      "cell_type": "code",
      "source": [
        "#Q20)  How would you open a file and read its contents using a context manager in Python?\n",
        "\n",
        "def read_file_contents(file_path):\n",
        "    try:\n",
        "        with open(file_path, 'r') as file:\n",
        "            contents = file.read()\n",
        "            print(f\"Contents of '{file_path}':\\n{contents}\")\n",
        "    except FileNotFoundError:\n",
        "        print(f\"File '{file_path}' not found.\")\n",
        "    except Exception as e:\n",
        "        print(f\"An error occurred: {e}\")\n",
        "\n",
        "file_path = \"example.txt\"\n",
        "read_file_contents(file_path)"
      ],
      "metadata": {
        "colab": {
          "base_uri": "https://localhost:8080/"
        },
        "id": "pWpAd5bBDaYr",
        "outputId": "87aa6598-7efb-419a-f240-61bb317c3706"
      },
      "execution_count": 24,
      "outputs": [
        {
          "output_type": "stream",
          "name": "stdout",
          "text": [
            "Contents of 'example.txt':\n",
            "Hello, World!This is new data to append.\n",
            "\n"
          ]
        }
      ]
    },
    {
      "cell_type": "code",
      "source": [
        "#Q21) Write a Python program that reads a file and prints the number of occurrences of a specific word?\n",
        "\n",
        "def count_word_occurrences(file_path, word):\n",
        "    try:\n",
        "        with open(file_path, 'r') as file:\n",
        "            contents = file.read()\n",
        "            contents = contents.lower()\n",
        "            words = contents.split()\n",
        "            count = words.count(word.lower())\n",
        "            print(f\"The word '{word}' occurs {count} times in '{file_path}'.\")\n",
        "    except FileNotFoundError:\n",
        "        print(f\"File '{file_path}' not found.\")\n",
        "    except Exception as e:\n",
        "        print(f\"An error occurred: {e}\")\n",
        "file_path = \"example.txt\"\n",
        "word = \"the\"\n",
        "count_word_occurrences(file_path, word)"
      ],
      "metadata": {
        "colab": {
          "base_uri": "https://localhost:8080/"
        },
        "id": "UdpZcqrqDuRs",
        "outputId": "7a6bb719-4858-4cee-b53c-ab21d423e1ca"
      },
      "execution_count": 25,
      "outputs": [
        {
          "output_type": "stream",
          "name": "stdout",
          "text": [
            "The word 'the' occurs 0 times in 'example.txt'.\n"
          ]
        }
      ]
    },
    {
      "cell_type": "code",
      "source": [
        "#Q22) How can you check if a file is empty before attempting to read its contents?\n",
        "\n",
        "import os\n",
        "\n",
        "def is_file_empty(file_path):\n",
        "    return os.path.getsize(file_path) == 0\n",
        "\n",
        "file_path = \"example.txt\"\n",
        "if is_file_empty(file_path):\n",
        "    print(f\"File '{file_path}' is empty.\")\n",
        "else:\n",
        "    print(f\"File '{file_path}' is not empty.\")"
      ],
      "metadata": {
        "colab": {
          "base_uri": "https://localhost:8080/"
        },
        "id": "9QcNo6esEIB4",
        "outputId": "b8944829-e1e0-4494-a94f-92d72861bb48"
      },
      "execution_count": 26,
      "outputs": [
        {
          "output_type": "stream",
          "name": "stdout",
          "text": [
            "File 'example.txt' is not empty.\n"
          ]
        }
      ]
    },
    {
      "cell_type": "code",
      "source": [
        "#Q23) Write a Python program that writes to a log file when an error occurs during file handling?\n",
        "\n",
        "import logging\n",
        "\n",
        "logging.basicConfig(filename='error.log', level=logging.ERROR)\n",
        "\n",
        "def write_to_file(file_path, content):\n",
        "    try:\n",
        "        with open(file_path, 'w') as file:\n",
        "            file.write(content)\n",
        "        print(f\"Content written successfully to '{file_path}'\")\n",
        "    except FileNotFoundError:\n",
        "        logging.error(f\"File '{file_path}' not found.\")\n",
        "    except PermissionError:\n",
        "        logging.error(f\"Permission denied to write to '{file_path}'\")\n",
        "    except Exception as e:\n",
        "        logging.error(f\"An unexpected error occurred: {e}\")\n",
        "\n",
        "file_path = \"example.txt\"\n",
        "content = \"This is some sample content.\"\n",
        "write_to_file(file_path, content)"
      ],
      "metadata": {
        "colab": {
          "base_uri": "https://localhost:8080/"
        },
        "id": "u94eOrpCEaYI",
        "outputId": "13fc5067-bbec-47b7-a402-e6c805d0975e"
      },
      "execution_count": 27,
      "outputs": [
        {
          "output_type": "stream",
          "name": "stdout",
          "text": [
            "Content written successfully to 'example.txt'\n"
          ]
        }
      ]
    }
  ]
}